{
 "cells": [
  {
   "cell_type": "markdown",
   "metadata": {},
   "source": [
    "# pyC2C - Courses to Calendar\n",
    "\n",
    "### Jack Black\n",
    "### Sep. 16th 2018"
   ]
  },
  {
   "cell_type": "markdown",
   "metadata": {},
   "source": []
  },
  {
   "cell_type": "code",
   "execution_count": 103,
   "metadata": {},
   "outputs": [],
   "source": [
    "# Basic I/O functions.\n",
    "def read_text(FILENAME):\n",
    "    '''\n",
    "        Read text from a file.\n",
    "        \n",
    "        Author: Wenjie Chen \n",
    "        E-mail: wenjiechen@pku.edu.cn\n",
    "        \n",
    "        args:\n",
    "            FILENAME : [string] States the file name along with its path.\n",
    "            \n",
    "        returns:\n",
    "            lines : [list] All lines from the text.\n",
    "            \n",
    "        example:\n",
    "            lines = read_text(\"./blogs/test.txt\")\n",
    "    '''\n",
    "    lines = list(open(FILENAME))\n",
    "    return lines\n",
    "\n",
    "def write_text(lines, FILENAME):\n",
    "    '''\n",
    "        Write text to file.\n",
    "        \n",
    "        Author: Wenjie Chen \n",
    "        E-mail: wenjiechen@pku.edu.cn\n",
    "        \n",
    "        args:\n",
    "            lines : [list] Linked html text.\n",
    "            FILENAME : [string] States the file name along with its path.\n",
    "            \n",
    "        returns:\n",
    "            null\n",
    "            \n",
    "        example:\n",
    "            write_text(\"./blogs/test.html\")\n",
    "    '''\n",
    "    import os\n",
    "    try:\n",
    "        os.remove(FILENAME)\n",
    "        print(FILENAME + \" exists. Overwriting now...\")\n",
    "    except:\n",
    "        print(FILENAME + \" does not exist. Creating now...\")\n",
    "    for line in lines:\n",
    "        with open(FILENAME, 'a') as f:\n",
    "            f.write(line)\n",
    "    print(\"Successfully write text to file.\")\n",
    "    return"
   ]
  },
  {
   "cell_type": "markdown",
   "metadata": {},
   "source": [
    "## 1. Define the courses class"
   ]
  },
  {
   "cell_type": "code",
   "execution_count": 160,
   "metadata": {},
   "outputs": [
    {
     "data": {
      "text/plain": [
       "'20180916T224355Z'"
      ]
     },
     "execution_count": 160,
     "metadata": {},
     "output_type": "execute_result"
    }
   ],
   "source": [
    "import datetime\n",
    "TIME = datetime.datetime.now().strftime(\"%Y%m%dT%H%M%SZ\")\n",
    "TIME"
   ]
  },
  {
   "cell_type": "code",
   "execution_count": 161,
   "metadata": {},
   "outputs": [],
   "source": [
    "class course():\n",
    "    SUMMARY = \"Course Name\"\n",
    "    DTSTART = \"Start Time\"\n",
    "    DTEND = \"End Time\"\n",
    "    LOCATION = \"room 202\"\n",
    "    FREQ = \"Frequency\"\n",
    "    BYDAY = \"MO\"\n",
    "    INTERVAL = \"1\"\n",
    "    UNTIL = \"19700101T000000Z\"\n",
    "    Username = \"JackBlack\"\n",
    "    DESCRIPTION = \"Description.\"\n",
    "    LOCATION = \"Classroom No.\"\n",
    "    \n",
    "    def __init__(self, Username, CurrentTime):\n",
    "        self.Username = Username\n",
    "        self.DTSTAMP = CurrentTime\n",
    "        \n",
    "    def read_data(FILENAME):\n",
    "        raw_data = read_text(FILENAME)\n",
    "        \n"
   ]
  },
  {
   "cell_type": "code",
   "execution_count": 163,
   "metadata": {},
   "outputs": [],
   "source": [
    "testCourse = course(\"JackBlack\", TIME)"
   ]
  },
  {
   "cell_type": "code",
   "execution_count": 164,
   "metadata": {},
   "outputs": [
    {
     "data": {
      "text/plain": [
       "'20180916T224355Z'"
      ]
     },
     "execution_count": 164,
     "metadata": {},
     "output_type": "execute_result"
    }
   ],
   "source": [
    "testCourse.name = \"Test\"\n",
    "testCourse.SUMMARY = \"Group\"\n",
    "testCourse.DTSTART = \"20180916T080000\"\n",
    "testCourse.DTSTAMP"
   ]
  },
  {
   "cell_type": "markdown",
   "metadata": {},
   "source": [
    "## ?. Read data from website page"
   ]
  },
  {
   "cell_type": "code",
   "execution_count": 169,
   "metadata": {},
   "outputs": [],
   "source": [
    "courses = read_text(\"./raw_data.txt\")"
   ]
  },
  {
   "cell_type": "code",
   "execution_count": 170,
   "metadata": {},
   "outputs": [
    {
     "data": {
      "text/plain": [
       "['群论',\n",
       " '选修',\n",
       " '3.0',\n",
       " '4.0',\n",
       " '李新征(长聘副教授)',\n",
       " '00',\n",
       " '物理学院',\n",
       " '1~16周 每周周一3~4节 二教109\\n']"
      ]
     },
     "execution_count": 170,
     "metadata": {},
     "output_type": "execute_result"
    }
   ],
   "source": [
    "courses[0].split('\\t')"
   ]
  },
  {
   "cell_type": "code",
   "execution_count": 172,
   "metadata": {},
   "outputs": [
    {
     "data": {
      "text/plain": [
       "'1~16周 每周周三5~6节 二教109(备注：与本科生合上)\\n'"
      ]
     },
     "execution_count": 172,
     "metadata": {},
     "output_type": "execute_result"
    }
   ],
   "source": [
    "courses[1]"
   ]
  },
  {
   "cell_type": "code",
   "execution_count": 174,
   "metadata": {},
   "outputs": [
    {
     "data": {
      "text/plain": [
       "['待定', '162.105.145.72', '2018-09-09 15:17:08\\n']"
      ]
     },
     "execution_count": 174,
     "metadata": {},
     "output_type": "execute_result"
    }
   ],
   "source": [
    "courses[2].split('\\t')"
   ]
  },
  {
   "cell_type": "markdown",
   "metadata": {},
   "source": [
    "## ?. Create events"
   ]
  },
  {
   "cell_type": "code",
   "execution_count": 100,
   "metadata": {},
   "outputs": [],
   "source": [
    "VEVENT = read_text(\"VEVENT.ics\")\n",
    "\n",
    "DTSTART = \"20180916T080000\"\n",
    "DTEND = \"20180916T095000\"\n",
    "VEVENT[1] = VEVENT[1][0:27] + DTSTART + '\\n'\n",
    "VEVENT[2] = VEVENT[2][0:25] + DTEND + '\\n'\n",
    "\n",
    "FREQ = \"WEEKLY\"\n",
    "UNTIL = \"20171108T235959Z\"\n",
    "BYDAY = \"MO\"\n",
    "INTERVAL = \"1\"\n",
    "VEVENT[3] = VEVENT[3][0:11] + FREQ + VEVENT[3][17:27] + INTERVAL + VEVENT[3][37:52] + UNTIL + VEVENT[3][59:66] + BYDAY + '\\n'\n",
    "\n",
    "DTSTAMP = \"20180916T080000Z\"\n",
    "VEVENT[4] = VEVENT[4][0:8] + DTSTAMP + '\\n'\n",
    "\n",
    "Username = \"JackBlack\"\n",
    "UID = DTSTART + Username + \"@elective.pku.edu.cn\"\n",
    "VEVENT[5] = VEVENT[5][0:4] + UID + '\\n'\n",
    "\n",
    "DESCRIPTION = \"Description.\"\n",
    "VEVENT[6] = VEVENT[6][0:12] + DESCRIPTION + '\\n'\n",
    "\n",
    "LOCATION = \"room 202\"\n",
    "VEVENT[7] = VEVENT[7][0:9] + LOCATION + '\\n'\n",
    "\n",
    "SUMMARY = \"Group Theory\"\n",
    "VEVENT[10] = VEVENT[10][0:8] + SUMMARY + '\\n'"
   ]
  },
  {
   "cell_type": "code",
   "execution_count": 101,
   "metadata": {},
   "outputs": [
    {
     "data": {
      "text/plain": [
       "['BEGIN:VEVENT\\n',\n",
       " 'DTSTART;TZID=Asia/Shanghai:20180916T080000\\n',\n",
       " 'DTEND;TZID=Asia/Shanghai:20180916T095000\\n',\n",
       " 'RRULE:FREQ=WEEKLY;INTERVAL=1;WKST=SU;UNTIL=20171108T235959Z;BYDAY=MO\\n',\n",
       " 'DTSTAMP:20180916T080000Z\\n',\n",
       " 'UID:20180916T080000JackBlack@elective.pku.edu.cn\\n',\n",
       " 'DESCRIPTION:Description.\\n',\n",
       " 'LOCATION:room 202\\n',\n",
       " 'SEQUENCE:0\\n',\n",
       " 'STATUS:CONFIRMED\\n',\n",
       " 'SUMMARY:Group Theory\\n',\n",
       " 'TRANSP:OPAQUE\\n',\n",
       " 'BEGIN:VALARM\\n',\n",
       " 'ACTION:DISPLAY\\n',\n",
       " 'DESCRIPTION:This is an event reminder\\n',\n",
       " 'TRIGGER:-P0DT0H30M0S\\n',\n",
       " 'END:VALARM\\n',\n",
       " 'END:VEVENT']"
      ]
     },
     "execution_count": 101,
     "metadata": {},
     "output_type": "execute_result"
    }
   ],
   "source": [
    "VEVENT"
   ]
  },
  {
   "cell_type": "markdown",
   "metadata": {},
   "source": [
    "## ?. Create iCal file"
   ]
  },
  {
   "cell_type": "code",
   "execution_count": 124,
   "metadata": {},
   "outputs": [
    {
     "data": {
      "text/plain": [
       "['PRODID:-//Google Inc//Google Calendar 70.9054//EN\\n',\n",
       " 'VERSION:2.0\\n',\n",
       " 'CALSCALE:GREGORIAN\\n',\n",
       " 'METHOD:PUBLISH\\n',\n",
       " 'X-WR-CALNAME:jackrablack@gmail.com\\n',\n",
       " 'X-WR-TIMEZONE:Asia/Shanghai\\n',\n",
       " 'BEGIN:VTIMEZONE\\n',\n",
       " 'TZID:Asia/Shanghai\\n',\n",
       " 'X-LIC-LOCATION:Asia/Shanghai\\n',\n",
       " 'BEGIN:STANDARD\\n',\n",
       " 'TZOFFSETFROM:+0800\\n',\n",
       " 'TZOFFSETTO:+0800\\n',\n",
       " 'TZNAME:CST\\n',\n",
       " 'DTSTART:19700101T000000\\n',\n",
       " 'END:STANDARD\\n',\n",
       " 'END:VTIMEZONE\\n',\n",
       " 'BEGIN:VEVENT\\n',\n",
       " 'DTSTART;TZID=Asia/Shanghai:20180916T080000\\n',\n",
       " 'DTEND;TZID=Asia/Shanghai:20180916T095000\\n',\n",
       " 'RRULE:FREQ=WEEKLY;INTERVAL=1;WKST=SU;UNTIL=20171108T235959Z;BYDAY=MO\\n',\n",
       " 'DTSTAMP:20180916T080000Z\\n',\n",
       " 'UID:20180916T080000JackBlack@elective.pku.edu.cn\\n',\n",
       " 'DESCRIPTION:Description.\\n',\n",
       " 'LOCATION:room 202\\n',\n",
       " 'SEQUENCE:0\\n',\n",
       " 'STATUS:CONFIRMED\\n',\n",
       " 'SUMMARY:Group Theory\\n',\n",
       " 'TRANSP:OPAQUE\\n',\n",
       " 'BEGIN:VALARM\\n',\n",
       " 'ACTION:DISPLAY\\n',\n",
       " 'DESCRIPTION:This is an event reminder\\n',\n",
       " 'TRIGGER:-P0DT0H30M0S\\n',\n",
       " 'END:VALARM\\n',\n",
       " 'END:VEVENT',\n",
       " 'END:VCALENDAR']"
      ]
     },
     "execution_count": 124,
     "metadata": {},
     "output_type": "execute_result"
    }
   ],
   "source": [
    "VCALENDAR = read_text(\"VCALENDAR.ics\")\n",
    "VCALENDAR = VCALENDAR[1:-1] + VEVENT + [VCALENDAR[-1]]\n",
    "VCALENDAR"
   ]
  },
  {
   "cell_type": "code",
   "execution_count": null,
   "metadata": {},
   "outputs": [],
   "source": []
  }
 ],
 "metadata": {
  "kernelspec": {
   "display_name": "Python 3",
   "language": "python",
   "name": "python3"
  },
  "language_info": {
   "codemirror_mode": {
    "name": "ipython",
    "version": 3
   },
   "file_extension": ".py",
   "mimetype": "text/x-python",
   "name": "python",
   "nbconvert_exporter": "python",
   "pygments_lexer": "ipython3",
   "version": "3.5.3"
  }
 },
 "nbformat": 4,
 "nbformat_minor": 2
}
